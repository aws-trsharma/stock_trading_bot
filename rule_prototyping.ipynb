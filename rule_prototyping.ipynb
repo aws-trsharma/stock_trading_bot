{
 "cells": [
  {
   "cell_type": "code",
   "execution_count": 1,
   "id": "fe6ed1aa-064a-4604-8ad8-06c65397d232",
   "metadata": {},
   "outputs": [],
   "source": [
    "import pandas as pd\n",
    "from trading_bot import TradingBot\n",
    "\n",
    "# importing matplotlib module \n",
    "from matplotlib import pyplot as plt"
   ]
  },
  {
   "cell_type": "code",
   "execution_count": 85,
   "id": "a7879e17-7d2c-483f-bc50-b2833d6ef4c4",
   "metadata": {},
   "outputs": [],
   "source": [
    "#https://medium.com/codex/how-to-calculate-bollinger-bands-of-a-stock-with-python-f9f7d1184fc3"
   ]
  },
  {
   "cell_type": "code",
   "execution_count": 2,
   "id": "c7e8aa59-f67d-4020-ab42-04b4470044a5",
   "metadata": {},
   "outputs": [],
   "source": [
    "%load_ext autoreload\n",
    "%autoreload 2"
   ]
  },
  {
   "cell_type": "code",
   "execution_count": 72,
   "id": "386dfdee-b192-4fca-99c1-31f1b226139d",
   "metadata": {},
   "outputs": [
    {
     "data": {
      "text/html": [
       "<div>\n",
       "<style scoped>\n",
       "    .dataframe tbody tr th:only-of-type {\n",
       "        vertical-align: middle;\n",
       "    }\n",
       "\n",
       "    .dataframe tbody tr th {\n",
       "        vertical-align: top;\n",
       "    }\n",
       "\n",
       "    .dataframe thead th {\n",
       "        text-align: right;\n",
       "    }\n",
       "</style>\n",
       "<table border=\"1\" class=\"dataframe\">\n",
       "  <thead>\n",
       "    <tr style=\"text-align: right;\">\n",
       "      <th></th>\n",
       "      <th>Open</th>\n",
       "      <th>High</th>\n",
       "      <th>Low</th>\n",
       "      <th>Close</th>\n",
       "      <th>Volume</th>\n",
       "      <th>Dividends</th>\n",
       "      <th>Stock Splits</th>\n",
       "    </tr>\n",
       "    <tr>\n",
       "      <th>Date</th>\n",
       "      <th></th>\n",
       "      <th></th>\n",
       "      <th></th>\n",
       "      <th></th>\n",
       "      <th></th>\n",
       "      <th></th>\n",
       "      <th></th>\n",
       "    </tr>\n",
       "  </thead>\n",
       "  <tbody>\n",
       "    <tr>\n",
       "      <th>2017-06-02</th>\n",
       "      <td>65.977889</td>\n",
       "      <td>67.307935</td>\n",
       "      <td>65.790554</td>\n",
       "      <td>67.214272</td>\n",
       "      <td>34770300</td>\n",
       "      <td>0.0</td>\n",
       "      <td>0</td>\n",
       "    </tr>\n",
       "    <tr>\n",
       "      <th>2017-06-05</th>\n",
       "      <td>67.410972</td>\n",
       "      <td>68.272691</td>\n",
       "      <td>67.261104</td>\n",
       "      <td>67.701332</td>\n",
       "      <td>33316800</td>\n",
       "      <td>0.0</td>\n",
       "      <td>0</td>\n",
       "    </tr>\n",
       "    <tr>\n",
       "      <th>2017-06-06</th>\n",
       "      <td>67.720074</td>\n",
       "      <td>68.019803</td>\n",
       "      <td>67.691969</td>\n",
       "      <td>67.926132</td>\n",
       "      <td>31511100</td>\n",
       "      <td>0.0</td>\n",
       "      <td>0</td>\n",
       "    </tr>\n",
       "    <tr>\n",
       "      <th>2017-06-07</th>\n",
       "      <td>68.038531</td>\n",
       "      <td>68.160293</td>\n",
       "      <td>67.392237</td>\n",
       "      <td>67.804367</td>\n",
       "      <td>22301800</td>\n",
       "      <td>0.0</td>\n",
       "      <td>0</td>\n",
       "    </tr>\n",
       "    <tr>\n",
       "      <th>2017-06-08</th>\n",
       "      <td>67.916781</td>\n",
       "      <td>67.926143</td>\n",
       "      <td>66.970759</td>\n",
       "      <td>67.392250</td>\n",
       "      <td>24588300</td>\n",
       "      <td>0.0</td>\n",
       "      <td>0</td>\n",
       "    </tr>\n",
       "  </tbody>\n",
       "</table>\n",
       "</div>"
      ],
      "text/plain": [
       "                 Open       High        Low      Close    Volume  Dividends  \\\n",
       "Date                                                                          \n",
       "2017-06-02  65.977889  67.307935  65.790554  67.214272  34770300        0.0   \n",
       "2017-06-05  67.410972  68.272691  67.261104  67.701332  33316800        0.0   \n",
       "2017-06-06  67.720074  68.019803  67.691969  67.926132  31511100        0.0   \n",
       "2017-06-07  68.038531  68.160293  67.392237  67.804367  22301800        0.0   \n",
       "2017-06-08  67.916781  67.926143  66.970759  67.392250  24588300        0.0   \n",
       "\n",
       "            Stock Splits  \n",
       "Date                      \n",
       "2017-06-02             0  \n",
       "2017-06-05             0  \n",
       "2017-06-06             0  \n",
       "2017-06-07             0  \n",
       "2017-06-08             0  "
      ]
     },
     "execution_count": 72,
     "metadata": {},
     "output_type": "execute_result"
    }
   ],
   "source": [
    "bot = TradingBot()\n",
    "msft_data = bot.get_stock_data('MSFT', data_period='5y')\n",
    "msft_data.head()"
   ]
  },
  {
   "cell_type": "code",
   "execution_count": 73,
   "id": "8de61d4a-2fc4-45d1-bcd2-919b298d1da3",
   "metadata": {},
   "outputs": [],
   "source": [
    "# from yfinance import Ticker\n",
    "# stock = Ticker('MSFT')\n",
    "# reccomendations_df = pd.DataFrame(stock.recommendations)\n",
    "# reccomendations_df.head()"
   ]
  },
  {
   "cell_type": "code",
   "execution_count": 74,
   "id": "95bf7a33-e0b7-4510-aaed-9b85bc3e6554",
   "metadata": {},
   "outputs": [
    {
     "data": {
      "text/plain": [
       "[<matplotlib.lines.Line2D at 0x7fc9c2d3a880>]"
      ]
     },
     "execution_count": 74,
     "metadata": {},
     "output_type": "execute_result"
    },
    {
     "data": {
      "image/png": "[encoded data removed]",
      "text/plain": [
       "<Figure size 432x288 with 1 Axes>"
      ]
     },
     "metadata": {
      "needs_background": "light"
     },
     "output_type": "display_data"
    }
   ],
   "source": [
    "plt.plot(msft_data['Open'])\n",
    "plt.plot(msft_data['Close'])"
   ]
  },
  {
   "cell_type": "code",
   "execution_count": 75,
   "id": "3ad52029-b57c-4209-8ed7-aae1e2d215ce",
   "metadata": {},
   "outputs": [
    {
     "data": {
      "text/html": [
       "<div>\n",
       "<style scoped>\n",
       "    .dataframe tbody tr th:only-of-type {\n",
       "        vertical-align: middle;\n",
       "    }\n",
       "\n",
       "    .dataframe tbody tr th {\n",
       "        vertical-align: top;\n",
       "    }\n",
       "\n",
       "    .dataframe thead th {\n",
       "        text-align: right;\n",
       "    }\n",
       "</style>\n",
       "<table border=\"1\" class=\"dataframe\">\n",
       "  <thead>\n",
       "    <tr style=\"text-align: right;\">\n",
       "      <th></th>\n",
       "      <th>Open</th>\n",
       "      <th>High</th>\n",
       "      <th>Low</th>\n",
       "      <th>Close</th>\n",
       "      <th>Volume</th>\n",
       "      <th>Dividends</th>\n",
       "      <th>Stock Splits</th>\n",
       "    </tr>\n",
       "    <tr>\n",
       "      <th>Date</th>\n",
       "      <th></th>\n",
       "      <th></th>\n",
       "      <th></th>\n",
       "      <th></th>\n",
       "      <th></th>\n",
       "      <th></th>\n",
       "      <th></th>\n",
       "    </tr>\n",
       "  </thead>\n",
       "  <tbody>\n",
       "    <tr>\n",
       "      <th>2017-06-02</th>\n",
       "      <td>65.977889</td>\n",
       "      <td>67.307935</td>\n",
       "      <td>65.790554</td>\n",
       "      <td>67.214272</td>\n",
       "      <td>34770300</td>\n",
       "      <td>0.0</td>\n",
       "      <td>0</td>\n",
       "    </tr>\n",
       "    <tr>\n",
       "      <th>2017-06-05</th>\n",
       "      <td>67.410972</td>\n",
       "      <td>68.272691</td>\n",
       "      <td>67.261104</td>\n",
       "      <td>67.701332</td>\n",
       "      <td>33316800</td>\n",
       "      <td>0.0</td>\n",
       "      <td>0</td>\n",
       "    </tr>\n",
       "    <tr>\n",
       "      <th>2017-06-06</th>\n",
       "      <td>67.720074</td>\n",
       "      <td>68.019803</td>\n",
       "      <td>67.691969</td>\n",
       "      <td>67.926132</td>\n",
       "      <td>31511100</td>\n",
       "      <td>0.0</td>\n",
       "      <td>0</td>\n",
       "    </tr>\n",
       "    <tr>\n",
       "      <th>2017-06-07</th>\n",
       "      <td>68.038531</td>\n",
       "      <td>68.160293</td>\n",
       "      <td>67.392237</td>\n",
       "      <td>67.804367</td>\n",
       "      <td>22301800</td>\n",
       "      <td>0.0</td>\n",
       "      <td>0</td>\n",
       "    </tr>\n",
       "    <tr>\n",
       "      <th>2017-06-08</th>\n",
       "      <td>67.916781</td>\n",
       "      <td>67.926143</td>\n",
       "      <td>66.970759</td>\n",
       "      <td>67.392250</td>\n",
       "      <td>24588300</td>\n",
       "      <td>0.0</td>\n",
       "      <td>0</td>\n",
       "    </tr>\n",
       "  </tbody>\n",
       "</table>\n",
       "</div>"
      ],
      "text/plain": [
       "                 Open       High        Low      Close    Volume  Dividends  \\\n",
       "Date                                                                          \n",
       "2017-06-02  65.977889  67.307935  65.790554  67.214272  34770300        0.0   \n",
       "2017-06-05  67.410972  68.272691  67.261104  67.701332  33316800        0.0   \n",
       "2017-06-06  67.720074  68.019803  67.691969  67.926132  31511100        0.0   \n",
       "2017-06-07  68.038531  68.160293  67.392237  67.804367  22301800        0.0   \n",
       "2017-06-08  67.916781  67.926143  66.970759  67.392250  24588300        0.0   \n",
       "\n",
       "            Stock Splits  \n",
       "Date                      \n",
       "2017-06-02             0  \n",
       "2017-06-05             0  \n",
       "2017-06-06             0  \n",
       "2017-06-07             0  \n",
       "2017-06-08             0  "
      ]
     },
     "execution_count": 75,
     "metadata": {},
     "output_type": "execute_result"
    }
   ],
   "source": [
    "msft_data.head()"
   ]
  },
  {
   "cell_type": "code",
   "execution_count": 76,
   "id": "90b126cb-2937-4d8a-a440-03adcb00c442",
   "metadata": {},
   "outputs": [
    {
     "data": {
      "text/plain": [
       "pandas.core.series.Series"
      ]
     },
     "execution_count": 76,
     "metadata": {},
     "output_type": "execute_result"
    }
   ],
   "source": [
    "type(msft_data['Close'])"
   ]
  },
  {
   "cell_type": "code",
   "execution_count": 82,
   "id": "df527db1-bedb-42a2-ae6d-cd651039df58",
   "metadata": {},
   "outputs": [],
   "source": [
    "price_hist = msft_data.loc[:,'Close']\n",
    "price_hist = pd.DataFrame(price_hist)\n",
    "price_hist['SMA_50'] = price_hist.Close.rolling(50).mean()\n",
    "price_hist['SMA_200'] = price_hist.Close.rolling(200).mean()  \n",
    "short_ma = price_hist.iloc[-1].loc['SMA_50']\n",
    "long_ma = price_hist.iloc[-1].loc['SMA_200']    "
   ]
  },
  {
   "cell_type": "code",
   "execution_count": 83,
   "id": "7e4a52ad-659b-4cfd-be70-0d1a2ad131ea",
   "metadata": {},
   "outputs": [
    {
     "data": {
      "text/html": [
       "<div>\n",
       "<style scoped>\n",
       "    .dataframe tbody tr th:only-of-type {\n",
       "        vertical-align: middle;\n",
       "    }\n",
       "\n",
       "    .dataframe tbody tr th {\n",
       "        vertical-align: top;\n",
       "    }\n",
       "\n",
       "    .dataframe thead th {\n",
       "        text-align: right;\n",
       "    }\n",
       "</style>\n",
       "<table border=\"1\" class=\"dataframe\">\n",
       "  <thead>\n",
       "    <tr style=\"text-align: right;\">\n",
       "      <th></th>\n",
       "      <th>Close</th>\n",
       "      <th>SMA_50</th>\n",
       "      <th>SMA_200</th>\n",
       "    </tr>\n",
       "    <tr>\n",
       "      <th>Date</th>\n",
       "      <th></th>\n",
       "      <th></th>\n",
       "      <th></th>\n",
       "    </tr>\n",
       "  </thead>\n",
       "  <tbody>\n",
       "    <tr>\n",
       "      <th>2017-06-02</th>\n",
       "      <td>67.214272</td>\n",
       "      <td>NaN</td>\n",
       "      <td>NaN</td>\n",
       "    </tr>\n",
       "    <tr>\n",
       "      <th>2017-06-05</th>\n",
       "      <td>67.701332</td>\n",
       "      <td>NaN</td>\n",
       "      <td>NaN</td>\n",
       "    </tr>\n",
       "    <tr>\n",
       "      <th>2017-06-06</th>\n",
       "      <td>67.926132</td>\n",
       "      <td>NaN</td>\n",
       "      <td>NaN</td>\n",
       "    </tr>\n",
       "    <tr>\n",
       "      <th>2017-06-07</th>\n",
       "      <td>67.804367</td>\n",
       "      <td>NaN</td>\n",
       "      <td>NaN</td>\n",
       "    </tr>\n",
       "    <tr>\n",
       "      <th>2017-06-08</th>\n",
       "      <td>67.392250</td>\n",
       "      <td>NaN</td>\n",
       "      <td>NaN</td>\n",
       "    </tr>\n",
       "    <tr>\n",
       "      <th>...</th>\n",
       "      <td>...</td>\n",
       "      <td>...</td>\n",
       "      <td>...</td>\n",
       "    </tr>\n",
       "    <tr>\n",
       "      <th>2022-05-25</th>\n",
       "      <td>262.519989</td>\n",
       "      <td>283.717449</td>\n",
       "      <td>302.015759</td>\n",
       "    </tr>\n",
       "    <tr>\n",
       "      <th>2022-05-26</th>\n",
       "      <td>265.899994</td>\n",
       "      <td>283.161331</td>\n",
       "      <td>301.922129</td>\n",
       "    </tr>\n",
       "    <tr>\n",
       "      <th>2022-05-27</th>\n",
       "      <td>273.239990</td>\n",
       "      <td>282.735450</td>\n",
       "      <td>301.851015</td>\n",
       "    </tr>\n",
       "    <tr>\n",
       "      <th>2022-05-31</th>\n",
       "      <td>271.869995</td>\n",
       "      <td>282.178213</td>\n",
       "      <td>301.757975</td>\n",
       "    </tr>\n",
       "    <tr>\n",
       "      <th>2022-06-01</th>\n",
       "      <td>272.420013</td>\n",
       "      <td>281.657316</td>\n",
       "      <td>301.659006</td>\n",
       "    </tr>\n",
       "  </tbody>\n",
       "</table>\n",
       "<p>1259 rows × 3 columns</p>\n",
       "</div>"
      ],
      "text/plain": [
       "                 Close      SMA_50     SMA_200\n",
       "Date                                          \n",
       "2017-06-02   67.214272         NaN         NaN\n",
       "2017-06-05   67.701332         NaN         NaN\n",
       "2017-06-06   67.926132         NaN         NaN\n",
       "2017-06-07   67.804367         NaN         NaN\n",
       "2017-06-08   67.392250         NaN         NaN\n",
       "...                ...         ...         ...\n",
       "2022-05-25  262.519989  283.717449  302.015759\n",
       "2022-05-26  265.899994  283.161331  301.922129\n",
       "2022-05-27  273.239990  282.735450  301.851015\n",
       "2022-05-31  271.869995  282.178213  301.757975\n",
       "2022-06-01  272.420013  281.657316  301.659006\n",
       "\n",
       "[1259 rows x 3 columns]"
      ]
     },
     "execution_count": 83,
     "metadata": {},
     "output_type": "execute_result"
    }
   ],
   "source": [
    "\n",
    "price_hist"
   ]
  },
  {
   "cell_type": "code",
   "execution_count": 84,
   "id": "96890380-94e8-4c68-9810-c9efa62340e4",
   "metadata": {},
   "outputs": [
    {
     "data": {
      "text/plain": [
       "[<matplotlib.lines.Line2D at 0x7fc9c2a74a90>]"
      ]
     },
     "execution_count": 84,
     "metadata": {},
     "output_type": "execute_result"
    },
    {
     "data": {
      "image/png": "[encoded data removed]",
      "text/plain": [
       "<Figure size 432x288 with 1 Axes>"
      ]
     },
     "metadata": {
      "needs_background": "light"
     },
     "output_type": "display_data"
    }
   ],
   "source": [
    "plt.plot(price_hist['Close'])\n",
    "plt.plot(price_hist['SMA_50'])\n",
    "plt.plot(price_hist['SMA_200'])"
   ]
  },
  {
   "cell_type": "code",
   "execution_count": 42,
   "id": "28932175-9755-4152-8209-8e4842c376de",
   "metadata": {},
   "outputs": [
    {
     "data": {
      "text/plain": [
       "Timestamp('2019-06-04 00:00:00')"
      ]
     },
     "execution_count": 42,
     "metadata": {},
     "output_type": "execute_result"
    }
   ],
   "source": [
    "#price_hist.index[0] + pd.Timedelta(days=1)"
   ]
  },
  {
   "cell_type": "code",
   "execution_count": 98,
   "id": "a64ddc21-0175-4bdb-a84f-b62a43270104",
   "metadata": {
    "tags": []
   },
   "outputs": [],
   "source": [
    "# diff_hist has rows where sma_50 < sma_200\n",
    "price_hist = price_hist.reset_index(level=0)\n",
    "diff_hist = price_hist[price_hist['SMA_50'] < price_hist['SMA_200']]"
   ]
  },
  {
   "cell_type": "code",
   "execution_count": 124,
   "id": "4bdfdd56-c801-43e5-a060-ae641f88790b",
   "metadata": {},
   "outputs": [
    {
     "data": {
      "text/html": [
       "<div>\n",
       "<style scoped>\n",
       "    .dataframe tbody tr th:only-of-type {\n",
       "        vertical-align: middle;\n",
       "    }\n",
       "\n",
       "    .dataframe tbody tr th {\n",
       "        vertical-align: top;\n",
       "    }\n",
       "\n",
       "    .dataframe thead th {\n",
       "        text-align: right;\n",
       "    }\n",
       "</style>\n",
       "<table border=\"1\" class=\"dataframe\">\n",
       "  <thead>\n",
       "    <tr style=\"text-align: right;\">\n",
       "      <th></th>\n",
       "      <th>index</th>\n",
       "      <th>Date</th>\n",
       "      <th>Close</th>\n",
       "      <th>SMA_50</th>\n",
       "      <th>SMA_200</th>\n",
       "    </tr>\n",
       "  </thead>\n",
       "  <tbody>\n",
       "    <tr>\n",
       "      <th>426</th>\n",
       "      <td>426</td>\n",
       "      <td>2019-02-12</td>\n",
       "      <td>102.909012</td>\n",
       "      <td>100.824645</td>\n",
       "      <td>100.831177</td>\n",
       "    </tr>\n",
       "    <tr>\n",
       "      <th>427</th>\n",
       "      <td>427</td>\n",
       "      <td>2019-02-13</td>\n",
       "      <td>102.831985</td>\n",
       "      <td>100.759563</td>\n",
       "      <td>100.889799</td>\n",
       "    </tr>\n",
       "    <tr>\n",
       "      <th>428</th>\n",
       "      <td>428</td>\n",
       "      <td>2019-02-14</td>\n",
       "      <td>102.918648</td>\n",
       "      <td>100.682735</td>\n",
       "      <td>100.959790</td>\n",
       "    </tr>\n",
       "    <tr>\n",
       "      <th>429</th>\n",
       "      <td>429</td>\n",
       "      <td>2019-02-15</td>\n",
       "      <td>104.189484</td>\n",
       "      <td>100.608218</td>\n",
       "      <td>101.029098</td>\n",
       "    </tr>\n",
       "    <tr>\n",
       "      <th>430</th>\n",
       "      <td>430</td>\n",
       "      <td>2019-02-19</td>\n",
       "      <td>104.141350</td>\n",
       "      <td>100.601478</td>\n",
       "      <td>101.105249</td>\n",
       "    </tr>\n",
       "    <tr>\n",
       "      <th>...</th>\n",
       "      <td>...</td>\n",
       "      <td>...</td>\n",
       "      <td>...</td>\n",
       "      <td>...</td>\n",
       "      <td>...</td>\n",
       "    </tr>\n",
       "    <tr>\n",
       "      <th>1254</th>\n",
       "      <td>1254</td>\n",
       "      <td>2022-05-25</td>\n",
       "      <td>262.519989</td>\n",
       "      <td>283.717449</td>\n",
       "      <td>302.015759</td>\n",
       "    </tr>\n",
       "    <tr>\n",
       "      <th>1255</th>\n",
       "      <td>1255</td>\n",
       "      <td>2022-05-26</td>\n",
       "      <td>265.899994</td>\n",
       "      <td>283.161331</td>\n",
       "      <td>301.922129</td>\n",
       "    </tr>\n",
       "    <tr>\n",
       "      <th>1256</th>\n",
       "      <td>1256</td>\n",
       "      <td>2022-05-27</td>\n",
       "      <td>273.239990</td>\n",
       "      <td>282.735450</td>\n",
       "      <td>301.851015</td>\n",
       "    </tr>\n",
       "    <tr>\n",
       "      <th>1257</th>\n",
       "      <td>1257</td>\n",
       "      <td>2022-05-31</td>\n",
       "      <td>271.869995</td>\n",
       "      <td>282.178213</td>\n",
       "      <td>301.757975</td>\n",
       "    </tr>\n",
       "    <tr>\n",
       "      <th>1258</th>\n",
       "      <td>1258</td>\n",
       "      <td>2022-06-01</td>\n",
       "      <td>272.420013</td>\n",
       "      <td>281.657316</td>\n",
       "      <td>301.659006</td>\n",
       "    </tr>\n",
       "  </tbody>\n",
       "</table>\n",
       "<p>70 rows × 5 columns</p>\n",
       "</div>"
      ],
      "text/plain": [
       "      index       Date       Close      SMA_50     SMA_200\n",
       "426     426 2019-02-12  102.909012  100.824645  100.831177\n",
       "427     427 2019-02-13  102.831985  100.759563  100.889799\n",
       "428     428 2019-02-14  102.918648  100.682735  100.959790\n",
       "429     429 2019-02-15  104.189484  100.608218  101.029098\n",
       "430     430 2019-02-19  104.141350  100.601478  101.105249\n",
       "...     ...        ...         ...         ...         ...\n",
       "1254   1254 2022-05-25  262.519989  283.717449  302.015759\n",
       "1255   1255 2022-05-26  265.899994  283.161331  301.922129\n",
       "1256   1256 2022-05-27  273.239990  282.735450  301.851015\n",
       "1257   1257 2022-05-31  271.869995  282.178213  301.757975\n",
       "1258   1258 2022-06-01  272.420013  281.657316  301.659006\n",
       "\n",
       "[70 rows x 5 columns]"
      ]
     },
     "execution_count": 124,
     "metadata": {},
     "output_type": "execute_result"
    }
   ],
   "source": [
    "diff_hist"
   ]
  },
  {
   "cell_type": "code",
   "execution_count": null,
   "id": "59c583ff-639f-44aa-9503-138566569031",
   "metadata": {},
   "outputs": [],
   "source": []
  },
  {
   "cell_type": "markdown",
   "id": "95803c63-26d2-4e0a-8e76-9c0211699eac",
   "metadata": {},
   "source": [
    "### First intersection going down (SMA_50 < SMA_200)\n",
    "#### This means SELL"
   ]
  },
  {
   "cell_type": "code",
   "execution_count": 102,
   "id": "014ac91e-4a65-4745-81e8-d803305940d4",
   "metadata": {},
   "outputs": [
    {
     "data": {
      "text/plain": [
       "426     1\n",
       "427     1\n",
       "428     1\n",
       "429     1\n",
       "430     1\n",
       "       ..\n",
       "1254    2\n",
       "1255    2\n",
       "1256    2\n",
       "1257    2\n",
       "1258    2\n",
       "Name: group, Length: 70, dtype: int64"
      ]
     },
     "execution_count": 102,
     "metadata": {},
     "output_type": "execute_result"
    }
   ],
   "source": [
    "# we already have the rows where the faster sma is lower than the faster sma\n",
    "# we now want to get the first non-consecutive occurence of the intersect\n",
    "# in other words we don't want the whole time period where one sma < other sma, we only want the first days to know when it started\n",
    "diff_group = (diff_hist['index'] != diff_hist.shift()['index']+1).cumsum().rename('group')\n",
    "diff_group"
   ]
  },
  {
   "cell_type": "code",
   "execution_count": 121,
   "id": "3d58c6be-ec3e-4ae4-b2fa-deb64fe32faf",
   "metadata": {},
   "outputs": [
    {
     "data": {
      "text/html": [
       "<div>\n",
       "<style scoped>\n",
       "    .dataframe tbody tr th:only-of-type {\n",
       "        vertical-align: middle;\n",
       "    }\n",
       "\n",
       "    .dataframe tbody tr th {\n",
       "        vertical-align: top;\n",
       "    }\n",
       "\n",
       "    .dataframe thead th {\n",
       "        text-align: right;\n",
       "    }\n",
       "</style>\n",
       "<table border=\"1\" class=\"dataframe\">\n",
       "  <thead>\n",
       "    <tr style=\"text-align: right;\">\n",
       "      <th></th>\n",
       "      <th>index</th>\n",
       "      <th>Date</th>\n",
       "      <th>Close</th>\n",
       "      <th>SMA_50</th>\n",
       "      <th>SMA_200</th>\n",
       "    </tr>\n",
       "  </thead>\n",
       "  <tbody>\n",
       "    <tr>\n",
       "      <th>0</th>\n",
       "      <td>426</td>\n",
       "      <td>2019-02-12</td>\n",
       "      <td>102.909012</td>\n",
       "      <td>100.824645</td>\n",
       "      <td>100.831177</td>\n",
       "    </tr>\n",
       "    <tr>\n",
       "      <th>1</th>\n",
       "      <td>1205</td>\n",
       "      <td>2022-03-16</td>\n",
       "      <td>293.705933</td>\n",
       "      <td>298.202045</td>\n",
       "      <td>298.887038</td>\n",
       "    </tr>\n",
       "  </tbody>\n",
       "</table>\n",
       "</div>"
      ],
      "text/plain": [
       "   index       Date       Close      SMA_50     SMA_200\n",
       "0    426 2019-02-12  102.909012  100.824645  100.831177\n",
       "1   1205 2022-03-16  293.705933  298.202045  298.887038"
      ]
     },
     "execution_count": 121,
     "metadata": {},
     "output_type": "execute_result"
    }
   ],
   "source": [
    "diff_hist.groupby([diff_group], as_index=False).first()"
   ]
  },
  {
   "cell_type": "code",
   "execution_count": 127,
   "id": "fe01cb72-b99d-484b-a21b-6ec6ff319641",
   "metadata": {},
   "outputs": [
    {
     "data": {
      "text/plain": [
       "[<matplotlib.lines.Line2D at 0x7fc9bedd2c40>]"
      ]
     },
     "execution_count": 127,
     "metadata": {},
     "output_type": "execute_result"
    },
    {
     "data": {
      "image/png": "[encoded data removed]",
      "text/plain": [
       "<Figure size 432x288 with 1 Axes>"
      ]
     },
     "metadata": {
      "needs_background": "light"
     },
     "output_type": "display_data"
    }
   ],
   "source": [
    "plt.plot(price_hist['Date'], price_hist['Close'])\n",
    "plt.plot(price_hist['Date'], price_hist['SMA_50'])\n",
    "plt.plot(price_hist['Date'], price_hist['SMA_200'])"
   ]
  },
  {
   "cell_type": "markdown",
   "id": "15c87d41-ea67-4e92-aca0-467ffb329b04",
   "metadata": {},
   "source": [
    "### Correctly shows the downward interections in 2019 and right now."
   ]
  },
  {
   "cell_type": "code",
   "execution_count": null,
   "id": "1958ffc6-bab5-4ae6-8cf1-e001554cb031",
   "metadata": {},
   "outputs": [],
   "source": []
  }
 ],
 "metadata": {
  "kernelspec": {
   "display_name": "Python 3 (ipykernel)",
   "language": "python",
   "name": "python3"
  },
  "language_info": {
   "codemirror_mode": {
    "name": "ipython",
    "version": 3
   },
   "file_extension": ".py",
   "mimetype": "text/x-python",
   "name": "python",
   "nbconvert_exporter": "python",
   "pygments_lexer": "ipython3",
   "version": "3.9.12"
  }
 },
 "nbformat": 4,
 "nbformat_minor": 5
}
